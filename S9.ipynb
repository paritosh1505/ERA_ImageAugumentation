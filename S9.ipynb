{
  "cells": [
    {
      "cell_type": "code",
      "execution_count": 1,
      "metadata": {
        "id": "cl4Lei0OJQat"
      },
      "outputs": [],
      "source": [
        "\n",
        "import torch\n",
        "from torchvision.transforms import transforms\n",
        "import matplotlib.pyplot as plt\n",
        "import numpy as np\n",
        "from tqdm import tqdm\n",
        "import torch.nn as nn\n",
        "import torch.nn.functional as F\n",
        "import torch.optim as optim\n",
        "from torchsummary import summary"
      ]
    },
    {
      "cell_type": "code",
      "source": [
        "#ignore all the warning using import warning library\n",
        "!pip install torchsummary\n",
        "!pip install albumentations"
      ],
      "metadata": {
        "colab": {
          "base_uri": "https://localhost:8080/"
        },
        "id": "AjurI1EEy9VD",
        "outputId": "6e6e41e8-e39d-4e45-c1dc-c15e8a084183"
      },
      "execution_count": 2,
      "outputs": [
        {
          "output_type": "stream",
          "name": "stdout",
          "text": [
            "Requirement already satisfied: torchsummary in /usr/local/lib/python3.10/dist-packages (1.5.1)\n",
            "Requirement already satisfied: albumentations in /usr/local/lib/python3.10/dist-packages (1.2.1)\n",
            "Requirement already satisfied: numpy>=1.11.1 in /usr/local/lib/python3.10/dist-packages (from albumentations) (1.22.4)\n",
            "Requirement already satisfied: scipy in /usr/local/lib/python3.10/dist-packages (from albumentations) (1.10.1)\n",
            "Requirement already satisfied: scikit-image>=0.16.1 in /usr/local/lib/python3.10/dist-packages (from albumentations) (0.19.3)\n",
            "Requirement already satisfied: PyYAML in /usr/local/lib/python3.10/dist-packages (from albumentations) (6.0)\n",
            "Requirement already satisfied: qudida>=0.0.4 in /usr/local/lib/python3.10/dist-packages (from albumentations) (0.0.4)\n",
            "Requirement already satisfied: opencv-python-headless>=4.1.1 in /usr/local/lib/python3.10/dist-packages (from albumentations) (4.7.0.72)\n",
            "Requirement already satisfied: scikit-learn>=0.19.1 in /usr/local/lib/python3.10/dist-packages (from qudida>=0.0.4->albumentations) (1.2.2)\n",
            "Requirement already satisfied: typing-extensions in /usr/local/lib/python3.10/dist-packages (from qudida>=0.0.4->albumentations) (4.6.3)\n",
            "Requirement already satisfied: networkx>=2.2 in /usr/local/lib/python3.10/dist-packages (from scikit-image>=0.16.1->albumentations) (3.1)\n",
            "Requirement already satisfied: pillow!=7.1.0,!=7.1.1,!=8.3.0,>=6.1.0 in /usr/local/lib/python3.10/dist-packages (from scikit-image>=0.16.1->albumentations) (8.4.0)\n",
            "Requirement already satisfied: imageio>=2.4.1 in /usr/local/lib/python3.10/dist-packages (from scikit-image>=0.16.1->albumentations) (2.25.1)\n",
            "Requirement already satisfied: tifffile>=2019.7.26 in /usr/local/lib/python3.10/dist-packages (from scikit-image>=0.16.1->albumentations) (2023.4.12)\n",
            "Requirement already satisfied: PyWavelets>=1.1.1 in /usr/local/lib/python3.10/dist-packages (from scikit-image>=0.16.1->albumentations) (1.4.1)\n",
            "Requirement already satisfied: packaging>=20.0 in /usr/local/lib/python3.10/dist-packages (from scikit-image>=0.16.1->albumentations) (23.1)\n",
            "Requirement already satisfied: joblib>=1.1.1 in /usr/local/lib/python3.10/dist-packages (from scikit-learn>=0.19.1->qudida>=0.0.4->albumentations) (1.2.0)\n",
            "Requirement already satisfied: threadpoolctl>=2.0.0 in /usr/local/lib/python3.10/dist-packages (from scikit-learn>=0.19.1->qudida>=0.0.4->albumentations) (3.1.0)\n"
          ]
        }
      ]
    },
    {
      "cell_type": "code",
      "source": [
        "from dataLoader import loader\n",
        "from performance import Performance\n",
        "#from utils import Plots,plot_metrics\n",
        "from model import Net,model_summary\n",
        "from utils import allot_device"
      ],
      "metadata": {
        "id": "s6h--sFlzAso"
      },
      "execution_count": 3,
      "outputs": []
    },
    {
      "cell_type": "code",
      "source": [
        "\n",
        " # Setting up the device\n",
        "device = allot_device(42)\n",
        "print(f\"{device} is available\")"
      ],
      "metadata": {
        "colab": {
          "base_uri": "https://localhost:8080/"
        },
        "id": "Z3CCtD1uzFax",
        "outputId": "21b67baf-385d-45db-d49f-2db8eef65557"
      },
      "execution_count": 4,
      "outputs": [
        {
          "output_type": "stream",
          "name": "stdout",
          "text": [
            "cuda is available\n"
          ]
        }
      ]
    },
    {
      "cell_type": "code",
      "execution_count": 5,
      "metadata": {
        "colab": {
          "base_uri": "https://localhost:8080/"
        },
        "id": "ZnA0x4SAJQax",
        "outputId": "3ead7aeb-399a-4520-8491-8a0505f87cf3"
      },
      "outputs": [
        {
          "output_type": "stream",
          "name": "stderr",
          "text": [
            "/usr/local/lib/python3.10/dist-packages/albumentations/augmentations/dropout/cutout.py:50: FutureWarning: Cutout has been deprecated. Please use CoarseDropout\n",
            "  warnings.warn(\n"
          ]
        },
        {
          "output_type": "stream",
          "name": "stdout",
          "text": [
            "Downloading https://www.cs.toronto.edu/~kriz/cifar-10-python.tar.gz to ./data/cifar-10-python.tar.gz\n"
          ]
        },
        {
          "output_type": "stream",
          "name": "stderr",
          "text": [
            "100%|██████████| 170498071/170498071 [00:13<00:00, 12952435.80it/s]\n"
          ]
        },
        {
          "output_type": "stream",
          "name": "stdout",
          "text": [
            "Extracting ./data/cifar-10-python.tar.gz to ./data\n",
            "Files already downloaded and verified\n",
            "196 40\n"
          ]
        }
      ],
      "source": [
        "\n",
        "train_loader,test_loader = loader.load_data(256)\n",
        "print(len(train_loader),len(test_loader))"
      ]
    },
    {
      "cell_type": "markdown",
      "metadata": {
        "id": "BWW4NjWOd2Xc"
      },
      "source": [
        "**Calculate Performace using Batch Normalization**"
      ]
    },
    {
      "cell_type": "code",
      "execution_count": 6,
      "metadata": {
        "id": "iXH8kA4GJQa0"
      },
      "outputs": [],
      "source": [
        "model = Net().to(device)\n"
      ]
    },
    {
      "cell_type": "code",
      "execution_count": 7,
      "metadata": {
        "colab": {
          "base_uri": "https://localhost:8080/"
        },
        "id": "yuoOOtTgJQa1",
        "outputId": "1cf6af9f-f01d-4b3a-e77e-d99420bab56c"
      },
      "outputs": [
        {
          "output_type": "stream",
          "name": "stdout",
          "text": [
            "----------------------------------------------------------------\n",
            "        Layer (type)               Output Shape         Param #\n",
            "================================================================\n",
            "            Conv2d-1           [-1, 16, 32, 32]             448\n",
            "       BatchNorm2d-2           [-1, 16, 32, 32]              32\n",
            "              ReLU-3           [-1, 16, 32, 32]               0\n",
            "            Conv2d-4           [-1, 32, 32, 32]           4,640\n",
            "       BatchNorm2d-5           [-1, 32, 32, 32]              64\n",
            "              ReLU-6           [-1, 32, 32, 32]               0\n",
            "            Conv2d-7           [-1, 32, 16, 16]           9,248\n",
            "       BatchNorm2d-8           [-1, 32, 16, 16]              64\n",
            "              ReLU-9           [-1, 32, 16, 16]               0\n",
            "        Dropout2d-10           [-1, 32, 16, 16]               0\n",
            "           Conv2d-11          [-1, 128, 14, 14]          36,992\n",
            "      BatchNorm2d-12          [-1, 128, 14, 14]             256\n",
            "             ReLU-13          [-1, 128, 14, 14]               0\n",
            "           Conv2d-14           [-1, 32, 14, 14]          36,896\n",
            "      BatchNorm2d-15           [-1, 32, 14, 14]              64\n",
            "             ReLU-16           [-1, 32, 14, 14]               0\n",
            "           Conv2d-17             [-1, 64, 7, 7]          18,496\n",
            "      BatchNorm2d-18             [-1, 64, 7, 7]             128\n",
            "             ReLU-19             [-1, 64, 7, 7]               0\n",
            "        Dropout2d-20             [-1, 64, 7, 7]               0\n",
            "           Conv2d-21            [-1, 128, 7, 7]           1,280\n",
            "      BatchNorm2d-22            [-1, 128, 7, 7]             256\n",
            "           Conv2d-23             [-1, 64, 7, 7]           8,256\n",
            "             ReLU-24             [-1, 64, 7, 7]               0\n",
            "           Conv2d-25             [-1, 64, 7, 7]          36,928\n",
            "      BatchNorm2d-26             [-1, 64, 7, 7]             128\n",
            "             ReLU-27             [-1, 64, 7, 7]               0\n",
            "           Conv2d-28             [-1, 32, 4, 4]          18,464\n",
            "      BatchNorm2d-29             [-1, 32, 4, 4]              64\n",
            "             ReLU-30             [-1, 32, 4, 4]               0\n",
            "        Dropout2d-31             [-1, 32, 4, 4]               0\n",
            "           Conv2d-32             [-1, 16, 4, 4]           4,624\n",
            "      BatchNorm2d-33             [-1, 16, 4, 4]              32\n",
            "             ReLU-34             [-1, 16, 4, 4]               0\n",
            "           Conv2d-35             [-1, 10, 1, 1]           2,570\n",
            "      BatchNorm2d-36             [-1, 10, 1, 1]              20\n",
            "             ReLU-37             [-1, 10, 1, 1]               0\n",
            "        AvgPool2d-38             [-1, 10, 1, 1]               0\n",
            "================================================================\n",
            "Total params: 179,950\n",
            "Trainable params: 179,950\n",
            "Non-trainable params: 0\n",
            "----------------------------------------------------------------\n",
            "Input size (MB): 0.01\n",
            "Forward/backward pass size (MB): 2.43\n",
            "Params size (MB): 0.69\n",
            "Estimated Total Size (MB): 3.12\n",
            "----------------------------------------------------------------\n"
          ]
        }
      ],
      "source": [
        "model_summary(model,(3,32,32))\n"
      ]
    },
    {
      "cell_type": "code",
      "execution_count": 12,
      "metadata": {
        "colab": {
          "base_uri": "https://localhost:8080/"
        },
        "id": "FVncFlIJbSED",
        "outputId": "57317c49-32fb-4e0a-b482-05002cb29d22"
      },
      "outputs": [
        {
          "output_type": "stream",
          "name": "stdout",
          "text": [
            "Adjusting learning rate of group 0 to 1.8000e-01.\n",
            "Epoch 1\n"
          ]
        },
        {
          "output_type": "stream",
          "name": "stderr",
          "text": [
            "Train: Loss=0.8517 Batch_id=195 Accuracy=75.06: 100%|██████████| 196/196 [00:25<00:00,  7.56it/s]\n"
          ]
        },
        {
          "output_type": "stream",
          "name": "stdout",
          "text": [
            "Test set: Average loss: 0.0029, Accuracy: 7559/10000 (75.59%)\n",
            "\n",
            "Adjusting learning rate of group 0 to 1.8000e-01.\n",
            "Epoch 2\n"
          ]
        },
        {
          "output_type": "stream",
          "name": "stderr",
          "text": [
            "Train: Loss=0.7768 Batch_id=195 Accuracy=75.67: 100%|██████████| 196/196 [00:26<00:00,  7.41it/s]\n"
          ]
        },
        {
          "output_type": "stream",
          "name": "stdout",
          "text": [
            "Test set: Average loss: 0.0022, Accuracy: 8064/10000 (80.64%)\n",
            "\n",
            "Adjusting learning rate of group 0 to 1.8000e-01.\n",
            "Epoch 3\n"
          ]
        },
        {
          "output_type": "stream",
          "name": "stderr",
          "text": [
            "Train: Loss=0.6380 Batch_id=195 Accuracy=76.20: 100%|██████████| 196/196 [00:25<00:00,  7.59it/s]\n"
          ]
        },
        {
          "output_type": "stream",
          "name": "stdout",
          "text": [
            "Test set: Average loss: 0.0022, Accuracy: 8116/10000 (81.16%)\n",
            "\n",
            "Adjusting learning rate of group 0 to 1.8000e-01.\n",
            "Epoch 4\n"
          ]
        },
        {
          "output_type": "stream",
          "name": "stderr",
          "text": [
            "Train: Loss=0.5867 Batch_id=195 Accuracy=76.80: 100%|██████████| 196/196 [00:25<00:00,  7.64it/s]\n"
          ]
        },
        {
          "output_type": "stream",
          "name": "stdout",
          "text": [
            "Test set: Average loss: 0.0022, Accuracy: 8119/10000 (81.19%)\n",
            "\n",
            "Adjusting learning rate of group 0 to 1.8000e-01.\n",
            "Epoch 5\n"
          ]
        },
        {
          "output_type": "stream",
          "name": "stderr",
          "text": [
            "Train: Loss=0.8004 Batch_id=195 Accuracy=77.27: 100%|██████████| 196/196 [00:25<00:00,  7.62it/s]\n"
          ]
        },
        {
          "output_type": "stream",
          "name": "stdout",
          "text": [
            "Test set: Average loss: 0.0023, Accuracy: 8098/10000 (80.98%)\n",
            "\n",
            "Adjusting learning rate of group 0 to 1.8000e-02.\n",
            "Epoch 6\n"
          ]
        },
        {
          "output_type": "stream",
          "name": "stderr",
          "text": [
            "Train: Loss=0.6955 Batch_id=195 Accuracy=79.61: 100%|██████████| 196/196 [00:25<00:00,  7.58it/s]\n"
          ]
        },
        {
          "output_type": "stream",
          "name": "stdout",
          "text": [
            "Test set: Average loss: 0.0018, Accuracy: 8505/10000 (85.05%)\n",
            "\n",
            "Adjusting learning rate of group 0 to 1.8000e-02.\n",
            "Epoch 7\n"
          ]
        },
        {
          "output_type": "stream",
          "name": "stderr",
          "text": [
            "Train: Loss=0.6895 Batch_id=195 Accuracy=80.63: 100%|██████████| 196/196 [00:26<00:00,  7.49it/s]\n"
          ]
        },
        {
          "output_type": "stream",
          "name": "stdout",
          "text": [
            "Test set: Average loss: 0.0017, Accuracy: 8526/10000 (85.26%)\n",
            "\n",
            "Adjusting learning rate of group 0 to 1.8000e-02.\n",
            "Epoch 8\n"
          ]
        },
        {
          "output_type": "stream",
          "name": "stderr",
          "text": [
            "Train: Loss=0.5165 Batch_id=195 Accuracy=81.16: 100%|██████████| 196/196 [00:26<00:00,  7.35it/s]\n"
          ]
        },
        {
          "output_type": "stream",
          "name": "stdout",
          "text": [
            "Test set: Average loss: 0.0017, Accuracy: 8535/10000 (85.35%)\n",
            "\n",
            "Adjusting learning rate of group 0 to 1.8000e-02.\n",
            "Epoch 9\n"
          ]
        },
        {
          "output_type": "stream",
          "name": "stderr",
          "text": [
            "Train: Loss=0.7578 Batch_id=195 Accuracy=81.49: 100%|██████████| 196/196 [00:25<00:00,  7.71it/s]\n"
          ]
        },
        {
          "output_type": "stream",
          "name": "stdout",
          "text": [
            "Test set: Average loss: 0.0017, Accuracy: 8541/10000 (85.41%)\n",
            "\n",
            "Adjusting learning rate of group 0 to 1.8000e-02.\n",
            "Epoch 10\n"
          ]
        },
        {
          "output_type": "stream",
          "name": "stderr",
          "text": [
            "Train: Loss=0.5809 Batch_id=195 Accuracy=81.48: 100%|██████████| 196/196 [00:25<00:00,  7.58it/s]\n"
          ]
        },
        {
          "output_type": "stream",
          "name": "stdout",
          "text": [
            "Test set: Average loss: 0.0017, Accuracy: 8600/10000 (86.00%)\n",
            "\n",
            "Adjusting learning rate of group 0 to 1.8000e-03.\n",
            "Epoch 11\n"
          ]
        },
        {
          "output_type": "stream",
          "name": "stderr",
          "text": [
            "Train: Loss=0.4220 Batch_id=195 Accuracy=82.02: 100%|██████████| 196/196 [00:25<00:00,  7.57it/s]\n"
          ]
        },
        {
          "output_type": "stream",
          "name": "stdout",
          "text": [
            "Test set: Average loss: 0.0017, Accuracy: 8587/10000 (85.87%)\n",
            "\n",
            "Adjusting learning rate of group 0 to 1.8000e-03.\n",
            "Epoch 12\n"
          ]
        },
        {
          "output_type": "stream",
          "name": "stderr",
          "text": [
            "Train: Loss=0.6043 Batch_id=195 Accuracy=81.91: 100%|██████████| 196/196 [00:25<00:00,  7.56it/s]\n"
          ]
        },
        {
          "output_type": "stream",
          "name": "stdout",
          "text": [
            "Test set: Average loss: 0.0017, Accuracy: 8605/10000 (86.05%)\n",
            "\n",
            "Adjusting learning rate of group 0 to 1.8000e-03.\n",
            "Epoch 13\n"
          ]
        },
        {
          "output_type": "stream",
          "name": "stderr",
          "text": [
            "Train: Loss=0.4580 Batch_id=195 Accuracy=82.29: 100%|██████████| 196/196 [00:25<00:00,  7.65it/s]\n"
          ]
        },
        {
          "output_type": "stream",
          "name": "stdout",
          "text": [
            "Test set: Average loss: 0.0017, Accuracy: 8602/10000 (86.02%)\n",
            "\n",
            "Adjusting learning rate of group 0 to 1.8000e-03.\n",
            "Epoch 14\n"
          ]
        },
        {
          "output_type": "stream",
          "name": "stderr",
          "text": [
            "Train: Loss=0.6265 Batch_id=195 Accuracy=82.11: 100%|██████████| 196/196 [00:25<00:00,  7.69it/s]\n"
          ]
        },
        {
          "output_type": "stream",
          "name": "stdout",
          "text": [
            "Test set: Average loss: 0.0017, Accuracy: 8585/10000 (85.85%)\n",
            "\n",
            "Adjusting learning rate of group 0 to 1.8000e-03.\n",
            "Epoch 15\n"
          ]
        },
        {
          "output_type": "stream",
          "name": "stderr",
          "text": [
            "Train: Loss=0.4383 Batch_id=195 Accuracy=82.05: 100%|██████████| 196/196 [00:25<00:00,  7.67it/s]\n"
          ]
        },
        {
          "output_type": "stream",
          "name": "stdout",
          "text": [
            "Test set: Average loss: 0.0017, Accuracy: 8595/10000 (85.95%)\n",
            "\n",
            "Adjusting learning rate of group 0 to 1.8000e-04.\n",
            "Epoch 16\n"
          ]
        },
        {
          "output_type": "stream",
          "name": "stderr",
          "text": [
            "Train: Loss=0.3534 Batch_id=195 Accuracy=82.09: 100%|██████████| 196/196 [00:25<00:00,  7.73it/s]\n"
          ]
        },
        {
          "output_type": "stream",
          "name": "stdout",
          "text": [
            "Test set: Average loss: 0.0017, Accuracy: 8607/10000 (86.07%)\n",
            "\n",
            "Adjusting learning rate of group 0 to 1.8000e-04.\n",
            "Epoch 17\n"
          ]
        },
        {
          "output_type": "stream",
          "name": "stderr",
          "text": [
            "Train: Loss=0.4666 Batch_id=195 Accuracy=82.04: 100%|██████████| 196/196 [00:26<00:00,  7.39it/s]\n"
          ]
        },
        {
          "output_type": "stream",
          "name": "stdout",
          "text": [
            "Test set: Average loss: 0.0017, Accuracy: 8597/10000 (85.97%)\n",
            "\n",
            "Adjusting learning rate of group 0 to 1.8000e-04.\n",
            "Epoch 18\n"
          ]
        },
        {
          "output_type": "stream",
          "name": "stderr",
          "text": [
            "Train: Loss=0.6343 Batch_id=195 Accuracy=82.22: 100%|██████████| 196/196 [00:26<00:00,  7.36it/s]\n"
          ]
        },
        {
          "output_type": "stream",
          "name": "stdout",
          "text": [
            "Test set: Average loss: 0.0017, Accuracy: 8595/10000 (85.95%)\n",
            "\n",
            "Adjusting learning rate of group 0 to 1.8000e-04.\n",
            "Epoch 19\n"
          ]
        },
        {
          "output_type": "stream",
          "name": "stderr",
          "text": [
            "Train: Loss=0.5725 Batch_id=195 Accuracy=82.22: 100%|██████████| 196/196 [00:25<00:00,  7.64it/s]\n"
          ]
        },
        {
          "output_type": "stream",
          "name": "stdout",
          "text": [
            "Test set: Average loss: 0.0017, Accuracy: 8614/10000 (86.14%)\n",
            "\n",
            "Adjusting learning rate of group 0 to 1.8000e-04.\n",
            "Epoch 20\n"
          ]
        },
        {
          "output_type": "stream",
          "name": "stderr",
          "text": [
            "Train: Loss=0.7387 Batch_id=195 Accuracy=82.08: 100%|██████████| 196/196 [00:25<00:00,  7.58it/s]\n"
          ]
        },
        {
          "output_type": "stream",
          "name": "stdout",
          "text": [
            "Test set: Average loss: 0.0016, Accuracy: 8614/10000 (86.14%)\n",
            "\n",
            "Adjusting learning rate of group 0 to 1.8000e-05.\n",
            "Epoch 21\n"
          ]
        },
        {
          "output_type": "stream",
          "name": "stderr",
          "text": [
            "Train: Loss=0.6470 Batch_id=195 Accuracy=82.10: 100%|██████████| 196/196 [00:27<00:00,  7.25it/s]\n"
          ]
        },
        {
          "output_type": "stream",
          "name": "stdout",
          "text": [
            "Test set: Average loss: 0.0017, Accuracy: 8597/10000 (85.97%)\n",
            "\n",
            "Adjusting learning rate of group 0 to 1.8000e-05.\n",
            "Epoch 22\n"
          ]
        },
        {
          "output_type": "stream",
          "name": "stderr",
          "text": [
            "Train: Loss=0.5451 Batch_id=195 Accuracy=82.13: 100%|██████████| 196/196 [00:26<00:00,  7.42it/s]\n"
          ]
        },
        {
          "output_type": "stream",
          "name": "stdout",
          "text": [
            "Test set: Average loss: 0.0017, Accuracy: 8620/10000 (86.20%)\n",
            "\n",
            "Adjusting learning rate of group 0 to 1.8000e-05.\n",
            "Epoch 23\n"
          ]
        },
        {
          "output_type": "stream",
          "name": "stderr",
          "text": [
            "Train: Loss=0.5608 Batch_id=195 Accuracy=82.20: 100%|██████████| 196/196 [00:26<00:00,  7.35it/s]\n"
          ]
        },
        {
          "output_type": "stream",
          "name": "stdout",
          "text": [
            "Test set: Average loss: 0.0017, Accuracy: 8590/10000 (85.90%)\n",
            "\n",
            "Adjusting learning rate of group 0 to 1.8000e-05.\n",
            "Epoch 24\n"
          ]
        },
        {
          "output_type": "stream",
          "name": "stderr",
          "text": [
            "Train: Loss=0.7515 Batch_id=195 Accuracy=82.20: 100%|██████████| 196/196 [00:27<00:00,  7.10it/s]\n"
          ]
        },
        {
          "output_type": "stream",
          "name": "stdout",
          "text": [
            "Test set: Average loss: 0.0017, Accuracy: 8614/10000 (86.14%)\n",
            "\n",
            "Adjusting learning rate of group 0 to 1.8000e-05.\n",
            "Epoch 25\n"
          ]
        },
        {
          "output_type": "stream",
          "name": "stderr",
          "text": [
            "Train: Loss=0.5628 Batch_id=195 Accuracy=82.08: 100%|██████████| 196/196 [00:27<00:00,  7.15it/s]\n"
          ]
        },
        {
          "output_type": "stream",
          "name": "stdout",
          "text": [
            "Test set: Average loss: 0.0017, Accuracy: 8606/10000 (86.06%)\n",
            "\n",
            "Adjusting learning rate of group 0 to 1.8000e-06.\n",
            "Epoch 26\n"
          ]
        },
        {
          "output_type": "stream",
          "name": "stderr",
          "text": [
            "Train: Loss=0.4429 Batch_id=195 Accuracy=82.24: 100%|██████████| 196/196 [00:26<00:00,  7.29it/s]\n"
          ]
        },
        {
          "output_type": "stream",
          "name": "stdout",
          "text": [
            "Test set: Average loss: 0.0017, Accuracy: 8621/10000 (86.21%)\n",
            "\n",
            "Adjusting learning rate of group 0 to 1.8000e-06.\n",
            "Epoch 27\n"
          ]
        },
        {
          "output_type": "stream",
          "name": "stderr",
          "text": [
            "Train: Loss=0.4594 Batch_id=195 Accuracy=82.07: 100%|██████████| 196/196 [00:27<00:00,  7.13it/s]\n"
          ]
        },
        {
          "output_type": "stream",
          "name": "stdout",
          "text": [
            "Test set: Average loss: 0.0017, Accuracy: 8595/10000 (85.95%)\n",
            "\n",
            "Adjusting learning rate of group 0 to 1.8000e-06.\n",
            "Epoch 28\n"
          ]
        },
        {
          "output_type": "stream",
          "name": "stderr",
          "text": [
            "Train: Loss=0.5833 Batch_id=195 Accuracy=81.98: 100%|██████████| 196/196 [00:26<00:00,  7.27it/s]\n"
          ]
        },
        {
          "output_type": "stream",
          "name": "stdout",
          "text": [
            "Test set: Average loss: 0.0017, Accuracy: 8594/10000 (85.94%)\n",
            "\n",
            "Adjusting learning rate of group 0 to 1.8000e-06.\n",
            "Epoch 29\n"
          ]
        },
        {
          "output_type": "stream",
          "name": "stderr",
          "text": [
            "Train: Loss=0.5248 Batch_id=195 Accuracy=82.27: 100%|██████████| 196/196 [00:26<00:00,  7.54it/s]\n"
          ]
        },
        {
          "output_type": "stream",
          "name": "stdout",
          "text": [
            "Test set: Average loss: 0.0017, Accuracy: 8601/10000 (86.01%)\n",
            "\n",
            "Adjusting learning rate of group 0 to 1.8000e-06.\n",
            "Epoch 30\n"
          ]
        },
        {
          "output_type": "stream",
          "name": "stderr",
          "text": [
            "Train: Loss=0.6075 Batch_id=195 Accuracy=82.10: 100%|██████████| 196/196 [00:26<00:00,  7.50it/s]\n"
          ]
        },
        {
          "output_type": "stream",
          "name": "stdout",
          "text": [
            "Test set: Average loss: 0.0017, Accuracy: 8606/10000 (86.06%)\n",
            "\n",
            "Adjusting learning rate of group 0 to 1.8000e-07.\n"
          ]
        }
      ],
      "source": [
        "optimizer = optim.SGD(model.parameters(), lr=0.18, momentum=0.9)\n",
        "scheduler = optim.lr_scheduler.StepLR(optimizer ,step_size=5,gamma=0.1, verbose=True)\n",
        "# New Line\n",
        "#step_size=5, gamma=0.1\n",
        "criterion = nn.CrossEntropyLoss()\n",
        "num_epochs = 30\n",
        "perf = Performance(device,model,(train_loader,test_loader),optimizer,criterion,'l1')\n",
        "\n",
        "for epoch in range(1, num_epochs+1):\n",
        "  print(f'Epoch {epoch}')\n",
        "  perf.train()\n",
        "  perf.test()\n",
        "  scheduler.step()"
      ]
    }
  ],
  "metadata": {
    "accelerator": "GPU",
    "colab": {
      "gpuType": "T4",
      "provenance": []
    },
    "kernelspec": {
      "display_name": "Python 3",
      "name": "python3"
    },
    "language_info": {
      "codemirror_mode": {
        "name": "ipython",
        "version": 3
      },
      "file_extension": ".py",
      "mimetype": "text/x-python",
      "name": "python",
      "nbconvert_exporter": "python",
      "pygments_lexer": "ipython3",
      "version": "3.6.4"
    }
  },
  "nbformat": 4,
  "nbformat_minor": 0
}